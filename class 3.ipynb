{
 "cells": [
  {
   "cell_type": "markdown",
   "metadata": {},
   "source": [
    "# Conditional Execution"
   ]
  },
  {
   "cell_type": "code",
   "execution_count": 20,
   "metadata": {},
   "outputs": [
    {
     "data": {
      "text/plain": [
       "True"
      ]
     },
     "execution_count": 20,
     "metadata": {},
     "output_type": "execute_result"
    }
   ],
   "source": [
    "a <100"
   ]
  },
  {
   "cell_type": "code",
   "execution_count": 21,
   "metadata": {},
   "outputs": [
    {
     "name": "stdout",
     "output_type": "stream",
     "text": [
      "smaller than 100\n",
      "xjhadbashjdfv\n",
      "finish\n"
     ]
    }
   ],
   "source": [
    "a = 10\n",
    "\n",
    "if a <100:\n",
    "    print('smaller than 100')\n",
    "    print('xjhadbashjdfv')\n",
    "\n",
    "    \n",
    "if a >100:\n",
    "    print('bigger than 100')\n",
    "\n",
    "print('finish')\n",
    "    "
   ]
  },
  {
   "cell_type": "markdown",
   "metadata": {},
   "source": [
    "for any conditional executions we need some Comparison Operators like:\n",
    "* ('<') less than \n",
    "* ('<=')less than or equal to\n",
    "* ('==')equal to\n",
    "* ('>') greater than\n",
    "* ('!=')not equal to\n",
    "* ('<=')less than or equal to"
   ]
  },
  {
   "cell_type": "code",
   "execution_count": 22,
   "metadata": {},
   "outputs": [
    {
     "name": "stdout",
     "output_type": "stream",
     "text": [
      "enter a number : 321\n",
      "number is greater than 100\n",
      "Done\n"
     ]
    }
   ],
   "source": [
    "# just small program to check the user input\n",
    "\n",
    "num = input('enter a number : ')\n",
    "num = int(num)\n",
    "\n",
    "if num > 100:\n",
    "    print('number is greater than 100')\n",
    "    \n",
    "if num < 100:\n",
    "    print('number is less than 100')\n",
    "    \n",
    "print('Done')\n",
    "    \n"
   ]
  },
  {
   "cell_type": "markdown",
   "metadata": {},
   "source": [
    "##### indentations are importanat "
   ]
  },
  {
   "cell_type": "markdown",
   "metadata": {},
   "source": [
    "## Nested If"
   ]
  },
  {
   "cell_type": "code",
   "execution_count": 23,
   "metadata": {},
   "outputs": [
    {
     "name": "stdout",
     "output_type": "stream",
     "text": [
      "enter a number : 6000\n",
      "number is grater than 100 and even\n",
      "Done\n"
     ]
    }
   ],
   "source": [
    "num = input('enter a number : ')\n",
    "num = int(num)\n",
    "\n",
    "if num > 100:\n",
    "    if num % 2 == 0:\n",
    "        print('number is grater than 100 and even')\n",
    "        \n",
    "    if num % 2 != 0 :\n",
    "        print('number is greater than 100 and odd')\n",
    "        \n",
    "    \n",
    "if num < 100:\n",
    "    if num % 2 == 0:\n",
    "        print('number is smaller than 100 and even')\n",
    "    if num % 2 != 0 :\n",
    "        print('number is smaller than 100 and odd')\n",
    "    \n",
    "    \n",
    "print('Done')"
   ]
  },
  {
   "cell_type": "markdown",
   "metadata": {},
   "source": [
    "## if with else (Two way decision)"
   ]
  },
  {
   "attachments": {
    "class%203%20image%201.png": {
     "image/png": "[encoded data removed]"
    }
   },
   "cell_type": "markdown",
   "metadata": {},
   "source": [
    "![class%203%20image%201.png](attachment:class%203%20image%201.png)"
   ]
  },
  {
   "cell_type": "code",
   "execution_count": 11,
   "metadata": {},
   "outputs": [
    {
     "name": "stdout",
     "output_type": "stream",
     "text": [
      "enter a number : 100\n",
      "num is less than 100\n"
     ]
    }
   ],
   "source": [
    "num = input('enter a number : ')\n",
    "num = int(num)\n",
    "\n",
    "if num > 100:\n",
    "    print('num is greater than 100')\n",
    "else : \n",
    "    print('num is less than 100')"
   ]
  },
  {
   "cell_type": "markdown",
   "metadata": {},
   "source": [
    "## Multiways Conditional statements"
   ]
  },
  {
   "cell_type": "code",
   "execution_count": 24,
   "metadata": {},
   "outputs": [
    {
     "name": "stdout",
     "output_type": "stream",
     "text": [
      "enter a number : swates\n"
     ]
    },
    {
     "ename": "ValueError",
     "evalue": "invalid literal for int() with base 10: 'swates'",
     "output_type": "error",
     "traceback": [
      "\u001b[1;31m---------------------------------------------------------------------------\u001b[0m",
      "\u001b[1;31mValueError\u001b[0m                                Traceback (most recent call last)",
      "\u001b[1;32m<ipython-input-24-efabc4d93519>\u001b[0m in \u001b[0;36m<module>\u001b[1;34m\u001b[0m\n\u001b[0;32m      1\u001b[0m \u001b[0mnum\u001b[0m \u001b[1;33m=\u001b[0m \u001b[0minput\u001b[0m\u001b[1;33m(\u001b[0m\u001b[1;34m'enter a number : '\u001b[0m\u001b[1;33m)\u001b[0m\u001b[1;33m\u001b[0m\u001b[1;33m\u001b[0m\u001b[0m\n\u001b[1;32m----> 2\u001b[1;33m \u001b[0mnum\u001b[0m \u001b[1;33m=\u001b[0m \u001b[0mint\u001b[0m\u001b[1;33m(\u001b[0m\u001b[0mnum\u001b[0m\u001b[1;33m)\u001b[0m\u001b[1;33m\u001b[0m\u001b[1;33m\u001b[0m\u001b[0m\n\u001b[0m\u001b[0;32m      3\u001b[0m \u001b[1;32mif\u001b[0m \u001b[0mnum\u001b[0m \u001b[1;33m>\u001b[0m \u001b[1;36m100\u001b[0m\u001b[1;33m:\u001b[0m\u001b[1;33m\u001b[0m\u001b[1;33m\u001b[0m\u001b[0m\n\u001b[0;32m      4\u001b[0m     \u001b[0mprint\u001b[0m\u001b[1;33m(\u001b[0m\u001b[1;34m'number is greater than 100'\u001b[0m\u001b[1;33m)\u001b[0m\u001b[1;33m\u001b[0m\u001b[1;33m\u001b[0m\u001b[0m\n\u001b[0;32m      5\u001b[0m \u001b[1;33m\u001b[0m\u001b[0m\n",
      "\u001b[1;31mValueError\u001b[0m: invalid literal for int() with base 10: 'swates'"
     ]
    }
   ],
   "source": [
    "num = input('enter a number : ')\n",
    "num = int(num)\n",
    "if num > 100:\n",
    "    print('number is greater than 100')\n",
    "\n",
    "elif num == 100:\n",
    "    print('number is equal to 100')\n",
    "    \n",
    "else : print('num is less than 100')\n",
    "    \n",
    "print('all done')"
   ]
  },
  {
   "cell_type": "markdown",
   "metadata": {},
   "source": [
    "# try and except"
   ]
  },
  {
   "cell_type": "markdown",
   "metadata": {},
   "source": [
    "to deal with execptions like any resource unavilable and wrong input we use try and except structures"
   ]
  },
  {
   "cell_type": "code",
   "execution_count": 15,
   "metadata": {},
   "outputs": [
    {
     "name": "stdout",
     "output_type": "stream",
     "text": [
      "enter a numberstr\n"
     ]
    },
    {
     "ename": "ValueError",
     "evalue": "invalid literal for int() with base 10: 'str'",
     "output_type": "error",
     "traceback": [
      "\u001b[1;31m---------------------------------------------------------------------------\u001b[0m",
      "\u001b[1;31mValueError\u001b[0m                                Traceback (most recent call last)",
      "\u001b[1;32m<ipython-input-15-3caac5906304>\u001b[0m in \u001b[0;36m<module>\u001b[1;34m\u001b[0m\n\u001b[0;32m      1\u001b[0m \u001b[0mnum\u001b[0m \u001b[1;33m=\u001b[0m \u001b[0minput\u001b[0m\u001b[1;33m(\u001b[0m\u001b[1;34m'enter a number'\u001b[0m\u001b[1;33m)\u001b[0m\u001b[1;33m\u001b[0m\u001b[1;33m\u001b[0m\u001b[0m\n\u001b[1;32m----> 2\u001b[1;33m \u001b[0mnum\u001b[0m \u001b[1;33m=\u001b[0m \u001b[0mint\u001b[0m\u001b[1;33m(\u001b[0m\u001b[0mnum\u001b[0m\u001b[1;33m)\u001b[0m\u001b[1;33m\u001b[0m\u001b[1;33m\u001b[0m\u001b[0m\n\u001b[0m",
      "\u001b[1;31mValueError\u001b[0m: invalid literal for int() with base 10: 'str'"
     ]
    }
   ],
   "source": [
    "num = input('enter a number')\n",
    "num = int(num)"
   ]
  },
  {
   "cell_type": "code",
   "execution_count": 25,
   "metadata": {},
   "outputs": [
    {
     "name": "stdout",
     "output_type": "stream",
     "text": [
      "enter a numberfzxghdfxahs\n",
      "\n",
      "\n",
      "\n",
      "wrong input\n"
     ]
    }
   ],
   "source": [
    "num = input('enter a number')\n",
    "print('')\n",
    "print('')\n",
    "print('')\n",
    "\n",
    "try :\n",
    "    num = int(num)\n",
    "except :\n",
    "    print('wrong input')"
   ]
  },
  {
   "cell_type": "markdown",
   "metadata": {},
   "source": [
    "# functions\n",
    "\n",
    "functions are reusable piece of codes. there is two types of functiona exist in python \n",
    "* Built in functions(functions thar are provided as the part of the python like print(), int()\n",
    "* user defined functions (the functions we design and use)\n",
    "\n",
    "### functions definitions\n",
    "\n",
    "* functions takes arguments as inpput , do the desired computations and then return the result\n",
    "* functions are defined with def keyword\n",
    "* we used to call the function using the function name and the arguments\n"
   ]
  },
  {
   "cell_type": "code",
   "execution_count": 29,
   "metadata": {},
   "outputs": [
    {
     "data": {
      "text/plain": [
       "'w'"
      ]
     },
     "execution_count": 29,
     "metadata": {},
     "output_type": "execute_result"
    }
   ],
   "source": [
    "big = max ('swartesh')\n",
    "big"
   ]
  },
  {
   "cell_type": "code",
   "execution_count": 24,
   "metadata": {},
   "outputs": [
    {
     "data": {
      "text/plain": [
       "'a'"
      ]
     },
     "execution_count": 24,
     "metadata": {},
     "output_type": "execute_result"
    }
   ],
   "source": [
    "small = min('swatesh')\n",
    "small"
   ]
  },
  {
   "cell_type": "markdown",
   "metadata": {},
   "source": [
    "## creating our own function"
   ]
  },
  {
   "cell_type": "code",
   "execution_count": 30,
   "metadata": {},
   "outputs": [],
   "source": [
    "def about_theinput(num):\n",
    "    if num > 100:\n",
    "        print('number is greater than 100')\n",
    "\n",
    "    elif num == 100:\n",
    "        print('number is equal to 100')\n",
    "    \n",
    "    else : print('num is less than 100')\n",
    "    \n",
    "    print('all done')\n",
    "    \n",
    "    "
   ]
  },
  {
   "cell_type": "code",
   "execution_count": 31,
   "metadata": {},
   "outputs": [
    {
     "name": "stdout",
     "output_type": "stream",
     "text": [
      "enter a number56\n",
      "num is less than 100\n",
      "all done\n",
      "function completed\n"
     ]
    }
   ],
   "source": [
    "a = input('enter a number')\n",
    "a = int(a)\n",
    "about_theinput(a)\n",
    "\n",
    "\n",
    "print('function completed')"
   ]
  },
  {
   "cell_type": "markdown",
   "metadata": {},
   "source": [
    "# iteration"
   ]
  },
  {
   "cell_type": "markdown",
   "metadata": {},
   "source": [
    "when we need some lines of codes to execute many time then use concept of looping, we can say that there is two types of loops in python\n",
    "\n",
    "* Indefinite Loops \n",
    "* definite loops"
   ]
  },
  {
   "cell_type": "code",
   "execution_count": 34,
   "metadata": {},
   "outputs": [
    {
     "data": {
      "text/plain": [
       "False"
      ]
     },
     "execution_count": 34,
     "metadata": {},
     "output_type": "execute_result"
    }
   ],
   "source": []
  },
  {
   "cell_type": "code",
   "execution_count": 33,
   "metadata": {},
   "outputs": [
    {
     "name": "stdout",
     "output_type": "stream",
     "text": [
      "2\n",
      "4\n",
      "6\n",
      "8\n",
      "10\n",
      "12\n",
      "14\n",
      "16\n",
      "18\n",
      "20\n",
      "all done\n"
     ]
    }
   ],
   "source": [
    "# a simple program to print table of two\n",
    "\n",
    "n = 2 \n",
    "while n<=20:\n",
    "    print(n)\n",
    "    n= n+2\n",
    "  \n",
    "    \n",
    "print('all done')"
   ]
  },
  {
   "cell_type": "markdown",
   "metadata": {},
   "source": [
    "break and continue"
   ]
  },
  {
   "cell_type": "markdown",
   "metadata": {},
   "source": [
    "break statement end the loop and jumps to the instruction which is next to the loop"
   ]
  },
  {
   "cell_type": "code",
   "execution_count": 8,
   "metadata": {},
   "outputs": [
    {
     "name": "stdout",
     "output_type": "stream",
     "text": [
      "2\n",
      "4\n",
      "6\n",
      "8\n",
      "10\n",
      "12\n",
      "14\n",
      "16\n",
      "18\n",
      "20\n"
     ]
    }
   ],
   "source": [
    "n = 2\n",
    "while True:\n",
    "    print(n)\n",
    "    n= n+2\n",
    "    if n >20 :\n",
    "        break\n",
    "        "
   ]
  },
  {
   "cell_type": "markdown",
   "metadata": {},
   "source": [
    "continue statement just skip the current iteration"
   ]
  },
  {
   "cell_type": "code",
   "execution_count": 1,
   "metadata": {},
   "outputs": [
    {
     "name": "stdout",
     "output_type": "stream",
     "text": [
      "2\n",
      "4\n",
      "8\n",
      "10\n",
      "12\n",
      "14\n",
      "16\n",
      "18\n",
      "20\n"
     ]
    }
   ],
   "source": [
    "n = 2\n",
    "while True:\n",
    "    \n",
    "    if n == 6 :\n",
    "        n= n+2\n",
    "        continue \n",
    "    print(n)\n",
    "    n= n+2\n",
    "    if n >20 :\n",
    "        break"
   ]
  },
  {
   "cell_type": "code",
   "execution_count": null,
   "metadata": {},
   "outputs": [],
   "source": [
    "a = 10"
   ]
  },
  {
   "cell_type": "markdown",
   "metadata": {},
   "source": [
    "## Definite loops\n",
    "\n",
    "we use definte loops when we have a list of items. or a finite set.the loop iterate through the members of the set"
   ]
  },
  {
   "cell_type": "code",
   "execution_count": 40,
   "metadata": {},
   "outputs": [
    {
     "name": "stdout",
     "output_type": "stream",
     "text": [
      "hiii\n",
      "hiii\n",
      "hiii\n",
      "hiii\n",
      "hiii\n",
      "hiii\n",
      "hiii\n",
      "all done\n"
     ]
    }
   ],
   "source": [
    "for i in 'swatesh':\n",
    "    print('hiii')\n",
    "    \n",
    "print('all done')"
   ]
  },
  {
   "cell_type": "code",
   "execution_count": 3,
   "metadata": {},
   "outputs": [
    {
     "name": "stdout",
     "output_type": "stream",
     "text": [
      "1\n",
      "2\n",
      "3\n",
      "4\n",
      "5\n",
      "all done\n"
     ]
    }
   ],
   "source": [
    "numbers = [1,2,3,4,5]\n",
    "\n",
    "for number in numbers:\n",
    "    print(number)\n",
    "    \n",
    "print('all done')"
   ]
  },
  {
   "cell_type": "code",
   "execution_count": 42,
   "metadata": {},
   "outputs": [
    {
     "data": {
      "text/plain": [
       "True"
      ]
     },
     "execution_count": 42,
     "metadata": {},
     "output_type": "execute_result"
    }
   ],
   "source": [
    "students = ['rajat', 'hitesh','swaraj']\n",
    "'rajat' in students"
   ]
  },
  {
   "cell_type": "code",
   "execution_count": 15,
   "metadata": {},
   "outputs": [
    {
     "name": "stdout",
     "output_type": "stream",
     "text": [
      "hiii   rajat\n",
      "hiii   hitesh\n",
      "hiii   swaraj\n",
      "all done\n"
     ]
    }
   ],
   "source": [
    "students = ['rajat', 'hitesh','swaraj']\n",
    "\n",
    "for student in students:\n",
    "    print('hiii   ' + student)\n",
    "\n",
    "print('all done')"
   ]
  },
  {
   "cell_type": "code",
   "execution_count": 43,
   "metadata": {},
   "outputs": [
    {
     "name": "stdout",
     "output_type": "stream",
     "text": [
      "enter the numbers and to end the list enter done\n",
      ">12\n",
      ">56\n",
      ">65\n",
      ">32\n",
      ">done\n",
      "all done\n"
     ]
    }
   ],
   "source": [
    "# a simple program, to understand the looping\n",
    "\n",
    "num = list()\n",
    "print('enter the numbers and to end the list enter done')\n",
    "while True:\n",
    "    x = input('>')\n",
    "    if x =='done':\n",
    "        break\n",
    "    num.append(int(x))\n",
    "\n",
    "print('all done')"
   ]
  },
  {
   "cell_type": "code",
   "execution_count": 17,
   "metadata": {},
   "outputs": [
    {
     "data": {
      "text/plain": [
       "[15, 16, 13, 12]"
      ]
     },
     "execution_count": 17,
     "metadata": {},
     "output_type": "execute_result"
    }
   ],
   "source": [
    "num"
   ]
  },
  {
   "cell_type": "code",
   "execution_count": 18,
   "metadata": {},
   "outputs": [
    {
     "name": "stdout",
     "output_type": "stream",
     "text": [
      "sum is :  56\n"
     ]
    }
   ],
   "source": [
    "sum = 0\n",
    "for x in num:\n",
    "    sum = sum +x\n",
    "\n",
    "print('sum is : ', sum)\n",
    "    "
   ]
  },
  {
   "cell_type": "code",
   "execution_count": null,
   "metadata": {},
   "outputs": [],
   "source": [
    "practice some small proggram using all the concept"
   ]
  }
 ],
 "metadata": {
  "kernelspec": {
   "display_name": "Python 3",
   "language": "python",
   "name": "python3"
  },
  "language_info": {
   "codemirror_mode": {
    "name": "ipython",
    "version": 3
   },
   "file_extension": ".py",
   "mimetype": "text/x-python",
   "name": "python",
   "nbconvert_exporter": "python",
   "pygments_lexer": "ipython3",
   "version": "3.6.5"
  }
 },
 "nbformat": 4,
 "nbformat_minor": 2
}
